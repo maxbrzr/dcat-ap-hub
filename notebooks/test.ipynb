{
 "cells": [
  {
   "cell_type": "code",
   "execution_count": 3,
   "id": "96e656fc",
   "metadata": {},
   "outputs": [],
   "source": [
    "from dcat_ap_hub import download\n",
    "from dcat_ap_hub.parsing import apply_parsing"
   ]
  },
  {
   "cell_type": "code",
   "execution_count": 4,
   "id": "1d329c82",
   "metadata": {},
   "outputs": [],
   "source": [
    "json_ld_metadata = \"http://localhost:8081/datasets/uci-har.jsonld\"\n",
    "metadata = download(json_ld_metadata)"
   ]
  },
  {
   "cell_type": "code",
   "execution_count": 5,
   "id": "40a26c62",
   "metadata": {},
   "outputs": [
    {
     "ename": "ImportError",
     "evalue": "Parser package for UCI-HAR not found. Please install with `pip install https://test.de/download.zip`",
     "output_type": "error",
     "traceback": [
      "\u001b[31m---------------------------------------------------------------------------\u001b[39m",
      "\u001b[31mModuleNotFoundError\u001b[39m                       Traceback (most recent call last)",
      "\u001b[36mFile \u001b[39m\u001b[32m~/dcat-ap-hub/src/dcat_ap_hub/parsing.py:18\u001b[39m, in \u001b[36mapply_parsing\u001b[39m\u001b[34m(metadata, base_dir)\u001b[39m\n\u001b[32m     17\u001b[39m \u001b[38;5;28;01mtry\u001b[39;00m:\n\u001b[32m---> \u001b[39m\u001b[32m18\u001b[39m     parser_module = \u001b[43mimportlib\u001b[49m\u001b[43m.\u001b[49m\u001b[43mimport_module\u001b[49m\u001b[43m(\u001b[49m\u001b[43mpackage_name\u001b[49m\u001b[43m)\u001b[49m\n\u001b[32m     19\u001b[39m     parsed_dataset = parser_module.parse(dataset_dir)\n",
      "\u001b[36mFile \u001b[39m\u001b[32m~/.local/share/uv/python/cpython-3.11.12-macos-aarch64-none/lib/python3.11/importlib/__init__.py:126\u001b[39m, in \u001b[36mimport_module\u001b[39m\u001b[34m(name, package)\u001b[39m\n\u001b[32m    125\u001b[39m         level += \u001b[32m1\u001b[39m\n\u001b[32m--> \u001b[39m\u001b[32m126\u001b[39m \u001b[38;5;28;01mreturn\u001b[39;00m \u001b[43m_bootstrap\u001b[49m\u001b[43m.\u001b[49m\u001b[43m_gcd_import\u001b[49m\u001b[43m(\u001b[49m\u001b[43mname\u001b[49m\u001b[43m[\u001b[49m\u001b[43mlevel\u001b[49m\u001b[43m:\u001b[49m\u001b[43m]\u001b[49m\u001b[43m,\u001b[49m\u001b[43m \u001b[49m\u001b[43mpackage\u001b[49m\u001b[43m,\u001b[49m\u001b[43m \u001b[49m\u001b[43mlevel\u001b[49m\u001b[43m)\u001b[49m\n",
      "\u001b[36mFile \u001b[39m\u001b[32m<frozen importlib._bootstrap>:1204\u001b[39m, in \u001b[36m_gcd_import\u001b[39m\u001b[34m(name, package, level)\u001b[39m\n",
      "\u001b[36mFile \u001b[39m\u001b[32m<frozen importlib._bootstrap>:1176\u001b[39m, in \u001b[36m_find_and_load\u001b[39m\u001b[34m(name, import_)\u001b[39m\n",
      "\u001b[36mFile \u001b[39m\u001b[32m<frozen importlib._bootstrap>:1140\u001b[39m, in \u001b[36m_find_and_load_unlocked\u001b[39m\u001b[34m(name, import_)\u001b[39m\n",
      "\u001b[31mModuleNotFoundError\u001b[39m: No module named 'UCI-HAR_parser'",
      "\nDuring handling of the above exception, another exception occurred:\n",
      "\u001b[31mImportError\u001b[39m                               Traceback (most recent call last)",
      "\u001b[36mCell\u001b[39m\u001b[36m \u001b[39m\u001b[32mIn[5]\u001b[39m\u001b[32m, line 1\u001b[39m\n\u001b[32m----> \u001b[39m\u001b[32m1\u001b[39m df = \u001b[43mapply_parsing\u001b[49m\u001b[43m(\u001b[49m\u001b[43mmetadata\u001b[49m\u001b[43m)\u001b[49m\n",
      "\u001b[36mFile \u001b[39m\u001b[32m~/dcat-ap-hub/src/dcat_ap_hub/parsing.py:21\u001b[39m, in \u001b[36mapply_parsing\u001b[39m\u001b[34m(metadata, base_dir)\u001b[39m\n\u001b[32m     19\u001b[39m     parsed_dataset = parser_module.parse(dataset_dir)\n\u001b[32m     20\u001b[39m \u001b[38;5;28;01mexcept\u001b[39;00m \u001b[38;5;167;01mImportError\u001b[39;00m:\n\u001b[32m---> \u001b[39m\u001b[32m21\u001b[39m     \u001b[38;5;28;01mraise\u001b[39;00m \u001b[38;5;167;01mImportError\u001b[39;00m(\n\u001b[32m     22\u001b[39m         \u001b[33mf\u001b[39m\u001b[33m\"\u001b[39m\u001b[33mParser package for \u001b[39m\u001b[38;5;132;01m{\u001b[39;00mdataset_title\u001b[38;5;132;01m}\u001b[39;00m\u001b[33m not found. Please install with `pip install \u001b[39m\u001b[38;5;132;01m{\u001b[39;00mparser_download_url\u001b[38;5;132;01m}\u001b[39;00m\u001b[33m`\u001b[39m\u001b[33m\"\u001b[39m\n\u001b[32m     23\u001b[39m     )\n\u001b[32m     25\u001b[39m \u001b[38;5;28;01mreturn\u001b[39;00m parsed_dataset\n",
      "\u001b[31mImportError\u001b[39m: Parser package for UCI-HAR not found. Please install with `pip install https://test.de/download.zip`"
     ]
    }
   ],
   "source": [
    "df = apply_parsing(metadata)"
   ]
  }
 ],
 "metadata": {
  "kernelspec": {
   "display_name": "dcat-ap-hub",
   "language": "python",
   "name": "python3"
  },
  "language_info": {
   "codemirror_mode": {
    "name": "ipython",
    "version": 3
   },
   "file_extension": ".py",
   "mimetype": "text/x-python",
   "name": "python",
   "nbconvert_exporter": "python",
   "pygments_lexer": "ipython3",
   "version": "3.11.12"
  }
 },
 "nbformat": 4,
 "nbformat_minor": 5
}
