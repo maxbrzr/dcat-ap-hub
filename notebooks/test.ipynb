{
 "cells": [
  {
   "cell_type": "code",
   "execution_count": 1,
   "id": "96e656fc",
   "metadata": {},
   "outputs": [],
   "source": [
    "from dcat_ap_hub import download_data, load_files_from_metadata"
   ]
  },
  {
   "cell_type": "code",
   "execution_count": null,
   "id": "1d329c82",
   "metadata": {},
   "outputs": [],
   "source": [
    "json_ld_metadata = \"http://localhost:8081/datasets/uci-har\"\n",
    "metadata = download_data(json_ld_metadata)"
   ]
  },
  {
   "cell_type": "code",
   "execution_count": null,
   "id": "b8055bed",
   "metadata": {},
   "outputs": [],
   "source": [
    "results = load_files_from_metadata(metadata=metadata, summarize=True, lazy=True)"
   ]
  },
  {
   "cell_type": "code",
   "execution_count": null,
   "id": "868b0bb2",
   "metadata": {},
   "outputs": [],
   "source": [
    "# Lazy loading in action\n",
    "csv_file = results[\"data/example.csv\"]\n",
    "print(\"Loaded?\", csv_file._data is not None)  # False\n",
    "\n",
    "df = csv_file.data  # loads now\n",
    "print(\"Loaded?\", csv_file._data is not None)  # True\n",
    "\n",
    "# Metadata access\n",
    "print(csv_file.size, \"bytes\")\n",
    "print(csv_file.mtime)\n",
    "\n",
    "# Collect all DataFrames\n",
    "dfs = results.get_dataframes()"
   ]
  }
 ],
 "metadata": {
  "kernelspec": {
   "display_name": "dcat-ap-hub",
   "language": "python",
   "name": "python3"
  },
  "language_info": {
   "codemirror_mode": {
    "name": "ipython",
    "version": 3
   },
   "file_extension": ".py",
   "mimetype": "text/x-python",
   "name": "python",
   "nbconvert_exporter": "python",
   "pygments_lexer": "ipython3",
   "version": "3.11.12"
  }
 },
 "nbformat": 4,
 "nbformat_minor": 5
}
