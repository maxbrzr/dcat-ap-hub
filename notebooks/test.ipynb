{
 "cells": [
  {
   "cell_type": "code",
   "execution_count": null,
   "id": "96e656fc",
   "metadata": {},
   "outputs": [],
   "source": [
    "from dcat_ap_hub import download"
   ]
  },
  {
   "cell_type": "code",
   "execution_count": 4,
   "id": "1d329c82",
   "metadata": {},
   "outputs": [
    {
     "name": "stderr",
     "output_type": "stream",
     "text": [
      "Downloading human+activity+recognition+using+smartphones.zip: 61.0MB [00:04, 12.7MB/s]\n"
     ]
    }
   ],
   "source": [
    "dataset_metadata = (\n",
    "    \"http://localhost:8081/distributions/147386fe-e43e-427f-8fd2-e88f5253c74a.jsonld\"\n",
    ")\n",
    "path, parse = download(dataset_metadata)"
   ]
  },
  {
   "cell_type": "code",
   "execution_count": 3,
   "id": "40a26c62",
   "metadata": {},
   "outputs": [
    {
     "name": "stdout",
     "output_type": "stream",
     "text": [
      "datasets/Original Data\n"
     ]
    }
   ],
   "source": [
    "print(path)"
   ]
  }
 ],
 "metadata": {
  "kernelspec": {
   "display_name": "dcat-ap-hub",
   "language": "python",
   "name": "python3"
  },
  "language_info": {
   "codemirror_mode": {
    "name": "ipython",
    "version": 3
   },
   "file_extension": ".py",
   "mimetype": "text/x-python",
   "name": "python",
   "nbconvert_exporter": "python",
   "pygments_lexer": "ipython3",
   "version": "3.11.12"
  }
 },
 "nbformat": 4,
 "nbformat_minor": 5
}
