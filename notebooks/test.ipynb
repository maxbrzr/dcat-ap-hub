{
 "cells": [
  {
   "cell_type": "code",
   "execution_count": 1,
   "id": "96e656fc",
   "metadata": {},
   "outputs": [],
   "source": [
    "from dcat_ap_hub import download_data, apply_parsing"
   ]
  },
  {
   "cell_type": "code",
   "execution_count": 7,
   "id": "1d329c82",
   "metadata": {},
   "outputs": [
    {
     "name": "stdout",
     "output_type": "stream",
     "text": [
      "Dataset datasets/UCI-HAR already exists. Skipping download.\n"
     ]
    }
   ],
   "source": [
    "json_ld_metadata = \"http://localhost:8081/datasets/uci-har\"\n",
    "metadata = download_data(json_ld_metadata)\n",
    "# df = apply_parsing(metadata)"
   ]
  }
 ],
 "metadata": {
  "kernelspec": {
   "display_name": "dcat-ap-hub",
   "language": "python",
   "name": "python3"
  },
  "language_info": {
   "codemirror_mode": {
    "name": "ipython",
    "version": 3
   },
   "file_extension": ".py",
   "mimetype": "text/x-python",
   "name": "python",
   "nbconvert_exporter": "python",
   "pygments_lexer": "ipython3",
   "version": "3.11.12"
  }
 },
 "nbformat": 4,
 "nbformat_minor": 5
}
